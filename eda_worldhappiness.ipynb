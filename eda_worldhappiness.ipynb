{
 "cells": [
  {
   "cell_type": "code",
   "execution_count": 17,
   "id": "7f6db853",
   "metadata": {},
   "outputs": [],
   "source": [
    "import pandas as pd\n",
    "import numpy as np\n",
    "import matplotlib.pyplot as plt"
   ]
  },
  {
   "cell_type": "code",
   "execution_count": 3,
   "id": "89508ddb",
   "metadata": {},
   "outputs": [],
   "source": [
    "r15 = pd.read_csv(\"archive/2015_report.csv\")\n",
    "r16 = pd.read_csv(\"archive/2016_report.csv\")\n",
    "r17 = pd.read_csv(\"archive/2017_report.csv\")\n",
    "r18 = pd.read_csv(\"archive/2018_report.csv\")\n",
    "r19 = pd.read_csv(\"archive/2019_report.csv\")\n",
    "r20 = pd.read_csv(\"archive/2020_report.csv\")\n",
    "r22 = pd.read_csv(\"archive/2022_report.csv\")\n",
    "\n",
    "frames = [r15, r16, r17, r18, r19, r20, r22]\n",
    "\n",
    "data = pd.concat(frames, ignore_index= True)"
   ]
  },
  {
   "cell_type": "code",
   "execution_count": 4,
   "id": "d092da75",
   "metadata": {},
   "outputs": [
    {
     "data": {
      "text/html": [
       "<div>\n",
       "<style scoped>\n",
       "    .dataframe tbody tr th:only-of-type {\n",
       "        vertical-align: middle;\n",
       "    }\n",
       "\n",
       "    .dataframe tbody tr th {\n",
       "        vertical-align: top;\n",
       "    }\n",
       "\n",
       "    .dataframe thead th {\n",
       "        text-align: right;\n",
       "    }\n",
       "</style>\n",
       "<table border=\"1\" class=\"dataframe\">\n",
       "  <thead>\n",
       "    <tr style=\"text-align: right;\">\n",
       "      <th></th>\n",
       "      <th>country</th>\n",
       "      <th>happiness_score</th>\n",
       "      <th>gdp_per_capita</th>\n",
       "      <th>social_support</th>\n",
       "      <th>health</th>\n",
       "      <th>freedom</th>\n",
       "      <th>generosity</th>\n",
       "      <th>government_trust</th>\n",
       "      <th>dystopia_residual</th>\n",
       "      <th>continent</th>\n",
       "    </tr>\n",
       "  </thead>\n",
       "  <tbody>\n",
       "    <tr>\n",
       "      <th>0</th>\n",
       "      <td>Norway</td>\n",
       "      <td>7.537</td>\n",
       "      <td>1.616463</td>\n",
       "      <td>1.533524</td>\n",
       "      <td>0.796667</td>\n",
       "      <td>0.635423</td>\n",
       "      <td>0.362012</td>\n",
       "      <td>0.315964</td>\n",
       "      <td>2.277027</td>\n",
       "      <td>Europe</td>\n",
       "    </tr>\n",
       "    <tr>\n",
       "      <th>1</th>\n",
       "      <td>Denmark</td>\n",
       "      <td>7.522</td>\n",
       "      <td>1.482383</td>\n",
       "      <td>1.551122</td>\n",
       "      <td>0.792566</td>\n",
       "      <td>0.626007</td>\n",
       "      <td>0.355280</td>\n",
       "      <td>0.400770</td>\n",
       "      <td>2.313707</td>\n",
       "      <td>Europe</td>\n",
       "    </tr>\n",
       "    <tr>\n",
       "      <th>2</th>\n",
       "      <td>Iceland</td>\n",
       "      <td>7.504</td>\n",
       "      <td>1.480633</td>\n",
       "      <td>1.610574</td>\n",
       "      <td>0.833552</td>\n",
       "      <td>0.627163</td>\n",
       "      <td>0.475540</td>\n",
       "      <td>0.153527</td>\n",
       "      <td>2.322715</td>\n",
       "      <td>Europe</td>\n",
       "    </tr>\n",
       "    <tr>\n",
       "      <th>3</th>\n",
       "      <td>Switzerland</td>\n",
       "      <td>7.494</td>\n",
       "      <td>1.564980</td>\n",
       "      <td>1.516912</td>\n",
       "      <td>0.858131</td>\n",
       "      <td>0.620071</td>\n",
       "      <td>0.290549</td>\n",
       "      <td>0.367007</td>\n",
       "      <td>2.276716</td>\n",
       "      <td>Europe</td>\n",
       "    </tr>\n",
       "    <tr>\n",
       "      <th>4</th>\n",
       "      <td>Finland</td>\n",
       "      <td>7.469</td>\n",
       "      <td>1.443572</td>\n",
       "      <td>1.540247</td>\n",
       "      <td>0.809158</td>\n",
       "      <td>0.617951</td>\n",
       "      <td>0.245483</td>\n",
       "      <td>0.382612</td>\n",
       "      <td>2.430182</td>\n",
       "      <td>Europe</td>\n",
       "    </tr>\n",
       "  </tbody>\n",
       "</table>\n",
       "</div>"
      ],
      "text/plain": [
       "       country  happiness_score  gdp_per_capita  social_support    health  \\\n",
       "0       Norway            7.537        1.616463        1.533524  0.796667   \n",
       "1      Denmark            7.522        1.482383        1.551122  0.792566   \n",
       "2      Iceland            7.504        1.480633        1.610574  0.833552   \n",
       "3  Switzerland            7.494        1.564980        1.516912  0.858131   \n",
       "4      Finland            7.469        1.443572        1.540247  0.809158   \n",
       "\n",
       "    freedom  generosity  government_trust  dystopia_residual continent  \n",
       "0  0.635423    0.362012          0.315964           2.277027    Europe  \n",
       "1  0.626007    0.355280          0.400770           2.313707    Europe  \n",
       "2  0.627163    0.475540          0.153527           2.322715    Europe  \n",
       "3  0.620071    0.290549          0.367007           2.276716    Europe  \n",
       "4  0.617951    0.245483          0.382612           2.430182    Europe  "
      ]
     },
     "execution_count": 4,
     "metadata": {},
     "output_type": "execute_result"
    }
   ],
   "source": [
    "data.head()"
   ]
  },
  {
   "cell_type": "code",
   "execution_count": 5,
   "id": "f0641eaf",
   "metadata": {},
   "outputs": [
    {
     "data": {
      "text/html": [
       "<div>\n",
       "<style scoped>\n",
       "    .dataframe tbody tr th:only-of-type {\n",
       "        vertical-align: middle;\n",
       "    }\n",
       "\n",
       "    .dataframe tbody tr th {\n",
       "        vertical-align: top;\n",
       "    }\n",
       "\n",
       "    .dataframe thead th {\n",
       "        text-align: right;\n",
       "    }\n",
       "</style>\n",
       "<table border=\"1\" class=\"dataframe\">\n",
       "  <thead>\n",
       "    <tr style=\"text-align: right;\">\n",
       "      <th></th>\n",
       "      <th>happiness_score</th>\n",
       "      <th>gdp_per_capita</th>\n",
       "      <th>social_support</th>\n",
       "      <th>health</th>\n",
       "      <th>freedom</th>\n",
       "      <th>generosity</th>\n",
       "      <th>government_trust</th>\n",
       "      <th>dystopia_residual</th>\n",
       "    </tr>\n",
       "  </thead>\n",
       "  <tbody>\n",
       "    <tr>\n",
       "      <th>count</th>\n",
       "      <td>974.000000</td>\n",
       "      <td>974.000000</td>\n",
       "      <td>974.000000</td>\n",
       "      <td>974.000000</td>\n",
       "      <td>974.000000</td>\n",
       "      <td>974.000000</td>\n",
       "      <td>974.000000</td>\n",
       "      <td>698.000000</td>\n",
       "    </tr>\n",
       "    <tr>\n",
       "      <th>mean</th>\n",
       "      <td>5.471382</td>\n",
       "      <td>0.994869</td>\n",
       "      <td>1.078886</td>\n",
       "      <td>0.634541</td>\n",
       "      <td>0.437538</td>\n",
       "      <td>0.200315</td>\n",
       "      <td>0.128406</td>\n",
       "      <td>2.025744</td>\n",
       "    </tr>\n",
       "    <tr>\n",
       "      <th>std</th>\n",
       "      <td>1.114772</td>\n",
       "      <td>0.431144</td>\n",
       "      <td>0.317938</td>\n",
       "      <td>0.230732</td>\n",
       "      <td>0.150866</td>\n",
       "      <td>0.117563</td>\n",
       "      <td>0.111017</td>\n",
       "      <td>0.555885</td>\n",
       "    </tr>\n",
       "    <tr>\n",
       "      <th>min</th>\n",
       "      <td>2.404000</td>\n",
       "      <td>0.000000</td>\n",
       "      <td>0.000000</td>\n",
       "      <td>0.000000</td>\n",
       "      <td>0.000000</td>\n",
       "      <td>0.000000</td>\n",
       "      <td>0.000000</td>\n",
       "      <td>0.187000</td>\n",
       "    </tr>\n",
       "    <tr>\n",
       "      <th>25%</th>\n",
       "      <td>4.608250</td>\n",
       "      <td>0.692287</td>\n",
       "      <td>0.872751</td>\n",
       "      <td>0.492694</td>\n",
       "      <td>0.334000</td>\n",
       "      <td>0.116384</td>\n",
       "      <td>0.054271</td>\n",
       "      <td>1.694568</td>\n",
       "    </tr>\n",
       "    <tr>\n",
       "      <th>50%</th>\n",
       "      <td>5.480000</td>\n",
       "      <td>1.028733</td>\n",
       "      <td>1.125375</td>\n",
       "      <td>0.667232</td>\n",
       "      <td>0.450029</td>\n",
       "      <td>0.185015</td>\n",
       "      <td>0.092419</td>\n",
       "      <td>2.035922</td>\n",
       "    </tr>\n",
       "    <tr>\n",
       "      <th>75%</th>\n",
       "      <td>6.293000</td>\n",
       "      <td>1.295961</td>\n",
       "      <td>1.323083</td>\n",
       "      <td>0.806508</td>\n",
       "      <td>0.556480</td>\n",
       "      <td>0.258750</td>\n",
       "      <td>0.157345</td>\n",
       "      <td>2.383974</td>\n",
       "    </tr>\n",
       "    <tr>\n",
       "      <th>max</th>\n",
       "      <td>7.821000</td>\n",
       "      <td>2.209000</td>\n",
       "      <td>1.644000</td>\n",
       "      <td>1.141000</td>\n",
       "      <td>0.740000</td>\n",
       "      <td>0.838075</td>\n",
       "      <td>0.587000</td>\n",
       "      <td>3.602140</td>\n",
       "    </tr>\n",
       "  </tbody>\n",
       "</table>\n",
       "</div>"
      ],
      "text/plain": [
       "       happiness_score  gdp_per_capita  social_support      health  \\\n",
       "count       974.000000      974.000000      974.000000  974.000000   \n",
       "mean          5.471382        0.994869        1.078886    0.634541   \n",
       "std           1.114772        0.431144        0.317938    0.230732   \n",
       "min           2.404000        0.000000        0.000000    0.000000   \n",
       "25%           4.608250        0.692287        0.872751    0.492694   \n",
       "50%           5.480000        1.028733        1.125375    0.667232   \n",
       "75%           6.293000        1.295961        1.323083    0.806508   \n",
       "max           7.821000        2.209000        1.644000    1.141000   \n",
       "\n",
       "          freedom  generosity  government_trust  dystopia_residual  \n",
       "count  974.000000  974.000000        974.000000         698.000000  \n",
       "mean     0.437538    0.200315          0.128406           2.025744  \n",
       "std      0.150866    0.117563          0.111017           0.555885  \n",
       "min      0.000000    0.000000          0.000000           0.187000  \n",
       "25%      0.334000    0.116384          0.054271           1.694568  \n",
       "50%      0.450029    0.185015          0.092419           2.035922  \n",
       "75%      0.556480    0.258750          0.157345           2.383974  \n",
       "max      0.740000    0.838075          0.587000           3.602140  "
      ]
     },
     "execution_count": 5,
     "metadata": {},
     "output_type": "execute_result"
    }
   ],
   "source": [
    "data.describe()"
   ]
  },
  {
   "cell_type": "code",
   "execution_count": 6,
   "id": "1bd157fd",
   "metadata": {},
   "outputs": [],
   "source": [
    "dummy = pd.get_dummies(data.drop('country', axis = 1))"
   ]
  },
  {
   "cell_type": "code",
   "execution_count": 7,
   "id": "88a4e9e4",
   "metadata": {
    "collapsed": true
   },
   "outputs": [
    {
     "data": {
      "text/html": [
       "<div>\n",
       "<style scoped>\n",
       "    .dataframe tbody tr th:only-of-type {\n",
       "        vertical-align: middle;\n",
       "    }\n",
       "\n",
       "    .dataframe tbody tr th {\n",
       "        vertical-align: top;\n",
       "    }\n",
       "\n",
       "    .dataframe thead th {\n",
       "        text-align: right;\n",
       "    }\n",
       "</style>\n",
       "<table border=\"1\" class=\"dataframe\">\n",
       "  <thead>\n",
       "    <tr style=\"text-align: right;\">\n",
       "      <th></th>\n",
       "      <th>happiness_score</th>\n",
       "      <th>gdp_per_capita</th>\n",
       "      <th>social_support</th>\n",
       "      <th>health</th>\n",
       "      <th>freedom</th>\n",
       "      <th>generosity</th>\n",
       "      <th>government_trust</th>\n",
       "      <th>dystopia_residual</th>\n",
       "      <th>continent_Africa</th>\n",
       "      <th>continent_Asia</th>\n",
       "      <th>continent_Australia</th>\n",
       "      <th>continent_Europe</th>\n",
       "      <th>continent_North America</th>\n",
       "      <th>continent_South America</th>\n",
       "    </tr>\n",
       "  </thead>\n",
       "  <tbody>\n",
       "    <tr>\n",
       "      <th>0</th>\n",
       "      <td>7.537</td>\n",
       "      <td>1.616463</td>\n",
       "      <td>1.533524</td>\n",
       "      <td>0.796667</td>\n",
       "      <td>0.635423</td>\n",
       "      <td>0.362012</td>\n",
       "      <td>0.315964</td>\n",
       "      <td>2.277027</td>\n",
       "      <td>0</td>\n",
       "      <td>0</td>\n",
       "      <td>0</td>\n",
       "      <td>1</td>\n",
       "      <td>0</td>\n",
       "      <td>0</td>\n",
       "    </tr>\n",
       "    <tr>\n",
       "      <th>1</th>\n",
       "      <td>7.522</td>\n",
       "      <td>1.482383</td>\n",
       "      <td>1.551122</td>\n",
       "      <td>0.792566</td>\n",
       "      <td>0.626007</td>\n",
       "      <td>0.355280</td>\n",
       "      <td>0.400770</td>\n",
       "      <td>2.313707</td>\n",
       "      <td>0</td>\n",
       "      <td>0</td>\n",
       "      <td>0</td>\n",
       "      <td>1</td>\n",
       "      <td>0</td>\n",
       "      <td>0</td>\n",
       "    </tr>\n",
       "    <tr>\n",
       "      <th>2</th>\n",
       "      <td>7.504</td>\n",
       "      <td>1.480633</td>\n",
       "      <td>1.610574</td>\n",
       "      <td>0.833552</td>\n",
       "      <td>0.627163</td>\n",
       "      <td>0.475540</td>\n",
       "      <td>0.153527</td>\n",
       "      <td>2.322715</td>\n",
       "      <td>0</td>\n",
       "      <td>0</td>\n",
       "      <td>0</td>\n",
       "      <td>1</td>\n",
       "      <td>0</td>\n",
       "      <td>0</td>\n",
       "    </tr>\n",
       "    <tr>\n",
       "      <th>3</th>\n",
       "      <td>7.494</td>\n",
       "      <td>1.564980</td>\n",
       "      <td>1.516912</td>\n",
       "      <td>0.858131</td>\n",
       "      <td>0.620071</td>\n",
       "      <td>0.290549</td>\n",
       "      <td>0.367007</td>\n",
       "      <td>2.276716</td>\n",
       "      <td>0</td>\n",
       "      <td>0</td>\n",
       "      <td>0</td>\n",
       "      <td>1</td>\n",
       "      <td>0</td>\n",
       "      <td>0</td>\n",
       "    </tr>\n",
       "    <tr>\n",
       "      <th>4</th>\n",
       "      <td>7.469</td>\n",
       "      <td>1.443572</td>\n",
       "      <td>1.540247</td>\n",
       "      <td>0.809158</td>\n",
       "      <td>0.617951</td>\n",
       "      <td>0.245483</td>\n",
       "      <td>0.382612</td>\n",
       "      <td>2.430182</td>\n",
       "      <td>0</td>\n",
       "      <td>0</td>\n",
       "      <td>0</td>\n",
       "      <td>1</td>\n",
       "      <td>0</td>\n",
       "      <td>0</td>\n",
       "    </tr>\n",
       "    <tr>\n",
       "      <th>...</th>\n",
       "      <td>...</td>\n",
       "      <td>...</td>\n",
       "      <td>...</td>\n",
       "      <td>...</td>\n",
       "      <td>...</td>\n",
       "      <td>...</td>\n",
       "      <td>...</td>\n",
       "      <td>...</td>\n",
       "      <td>...</td>\n",
       "      <td>...</td>\n",
       "      <td>...</td>\n",
       "      <td>...</td>\n",
       "      <td>...</td>\n",
       "      <td>...</td>\n",
       "    </tr>\n",
       "    <tr>\n",
       "      <th>969</th>\n",
       "      <td>3.471</td>\n",
       "      <td>1.503000</td>\n",
       "      <td>0.815000</td>\n",
       "      <td>0.280000</td>\n",
       "      <td>0.571000</td>\n",
       "      <td>0.012000</td>\n",
       "      <td>0.102000</td>\n",
       "      <td>0.187000</td>\n",
       "      <td>1</td>\n",
       "      <td>0</td>\n",
       "      <td>0</td>\n",
       "      <td>0</td>\n",
       "      <td>0</td>\n",
       "      <td>0</td>\n",
       "    </tr>\n",
       "    <tr>\n",
       "      <th>970</th>\n",
       "      <td>3.268</td>\n",
       "      <td>0.785000</td>\n",
       "      <td>0.133000</td>\n",
       "      <td>0.462000</td>\n",
       "      <td>0.621000</td>\n",
       "      <td>0.187000</td>\n",
       "      <td>0.544000</td>\n",
       "      <td>0.536000</td>\n",
       "      <td>1</td>\n",
       "      <td>0</td>\n",
       "      <td>0</td>\n",
       "      <td>0</td>\n",
       "      <td>0</td>\n",
       "      <td>0</td>\n",
       "    </tr>\n",
       "    <tr>\n",
       "      <th>971</th>\n",
       "      <td>2.995</td>\n",
       "      <td>0.947000</td>\n",
       "      <td>0.690000</td>\n",
       "      <td>0.270000</td>\n",
       "      <td>0.329000</td>\n",
       "      <td>0.106000</td>\n",
       "      <td>0.105000</td>\n",
       "      <td>0.548000</td>\n",
       "      <td>1</td>\n",
       "      <td>0</td>\n",
       "      <td>0</td>\n",
       "      <td>0</td>\n",
       "      <td>0</td>\n",
       "      <td>0</td>\n",
       "    </tr>\n",
       "    <tr>\n",
       "      <th>972</th>\n",
       "      <td>2.955</td>\n",
       "      <td>1.392000</td>\n",
       "      <td>0.498000</td>\n",
       "      <td>0.631000</td>\n",
       "      <td>0.103000</td>\n",
       "      <td>0.082000</td>\n",
       "      <td>0.034000</td>\n",
       "      <td>0.216000</td>\n",
       "      <td>0</td>\n",
       "      <td>1</td>\n",
       "      <td>0</td>\n",
       "      <td>0</td>\n",
       "      <td>0</td>\n",
       "      <td>0</td>\n",
       "    </tr>\n",
       "    <tr>\n",
       "      <th>973</th>\n",
       "      <td>2.404</td>\n",
       "      <td>0.758000</td>\n",
       "      <td>0.000000</td>\n",
       "      <td>0.289000</td>\n",
       "      <td>0.000000</td>\n",
       "      <td>0.089000</td>\n",
       "      <td>0.005000</td>\n",
       "      <td>1.263000</td>\n",
       "      <td>0</td>\n",
       "      <td>1</td>\n",
       "      <td>0</td>\n",
       "      <td>0</td>\n",
       "      <td>0</td>\n",
       "      <td>0</td>\n",
       "    </tr>\n",
       "  </tbody>\n",
       "</table>\n",
       "<p>974 rows × 14 columns</p>\n",
       "</div>"
      ],
      "text/plain": [
       "     happiness_score  gdp_per_capita  social_support    health   freedom  \\\n",
       "0              7.537        1.616463        1.533524  0.796667  0.635423   \n",
       "1              7.522        1.482383        1.551122  0.792566  0.626007   \n",
       "2              7.504        1.480633        1.610574  0.833552  0.627163   \n",
       "3              7.494        1.564980        1.516912  0.858131  0.620071   \n",
       "4              7.469        1.443572        1.540247  0.809158  0.617951   \n",
       "..               ...             ...             ...       ...       ...   \n",
       "969            3.471        1.503000        0.815000  0.280000  0.571000   \n",
       "970            3.268        0.785000        0.133000  0.462000  0.621000   \n",
       "971            2.995        0.947000        0.690000  0.270000  0.329000   \n",
       "972            2.955        1.392000        0.498000  0.631000  0.103000   \n",
       "973            2.404        0.758000        0.000000  0.289000  0.000000   \n",
       "\n",
       "     generosity  government_trust  dystopia_residual  continent_Africa  \\\n",
       "0      0.362012          0.315964           2.277027                 0   \n",
       "1      0.355280          0.400770           2.313707                 0   \n",
       "2      0.475540          0.153527           2.322715                 0   \n",
       "3      0.290549          0.367007           2.276716                 0   \n",
       "4      0.245483          0.382612           2.430182                 0   \n",
       "..          ...               ...                ...               ...   \n",
       "969    0.012000          0.102000           0.187000                 1   \n",
       "970    0.187000          0.544000           0.536000                 1   \n",
       "971    0.106000          0.105000           0.548000                 1   \n",
       "972    0.082000          0.034000           0.216000                 0   \n",
       "973    0.089000          0.005000           1.263000                 0   \n",
       "\n",
       "     continent_Asia  continent_Australia  continent_Europe  \\\n",
       "0                 0                    0                 1   \n",
       "1                 0                    0                 1   \n",
       "2                 0                    0                 1   \n",
       "3                 0                    0                 1   \n",
       "4                 0                    0                 1   \n",
       "..              ...                  ...               ...   \n",
       "969               0                    0                 0   \n",
       "970               0                    0                 0   \n",
       "971               0                    0                 0   \n",
       "972               1                    0                 0   \n",
       "973               1                    0                 0   \n",
       "\n",
       "     continent_North America  continent_South America  \n",
       "0                          0                        0  \n",
       "1                          0                        0  \n",
       "2                          0                        0  \n",
       "3                          0                        0  \n",
       "4                          0                        0  \n",
       "..                       ...                      ...  \n",
       "969                        0                        0  \n",
       "970                        0                        0  \n",
       "971                        0                        0  \n",
       "972                        0                        0  \n",
       "973                        0                        0  \n",
       "\n",
       "[974 rows x 14 columns]"
      ]
     },
     "execution_count": 7,
     "metadata": {},
     "output_type": "execute_result"
    }
   ],
   "source": [
    "dummy"
   ]
  },
  {
   "cell_type": "code",
   "execution_count": 8,
   "id": "16e530f1",
   "metadata": {},
   "outputs": [
    {
     "data": {
      "text/plain": [
       "<AxesSubplot:>"
      ]
     },
     "execution_count": 8,
     "metadata": {},
     "output_type": "execute_result"
    },
    {
     "data": {
      "image/png": "[encoded data removed]",
      "text/plain": [
       "<Figure size 432x288 with 1 Axes>"
      ]
     },
     "metadata": {
      "needs_background": "light"
     },
     "output_type": "display_data"
    }
   ],
   "source": [
    "data.happiness_score.hist()"
   ]
  },
  {
   "cell_type": "code",
   "execution_count": 9,
   "id": "10248e0d",
   "metadata": {},
   "outputs": [
    {
     "data": {
      "text/plain": [
       "array([[<AxesSubplot:title={'center':'social_support'}>,\n",
       "        <AxesSubplot:title={'center':'gdp_per_capita'}>]], dtype=object)"
      ]
     },
     "execution_count": 9,
     "metadata": {},
     "output_type": "execute_result"
    },
    {
     "data": {
      "image/png": "[encoded data removed]",
      "text/plain": [
       "<Figure size 432x288 with 2 Axes>"
      ]
     },
     "metadata": {
      "needs_background": "light"
     },
     "output_type": "display_data"
    }
   ],
   "source": [
    "data[['social_support','gdp_per_capita']].hist()"
   ]
  },
  {
   "cell_type": "code",
   "execution_count": 21,
   "id": "d7c3745b",
   "metadata": {},
   "outputs": [
    {
     "name": "stdout",
     "output_type": "stream",
     "text": [
      "happiness_score\n"
     ]
    },
    {
     "data": {
      "image/png": "[encoded data removed]",
      "text/plain": [
       "<Figure size 432x288 with 1 Axes>"
      ]
     },
     "metadata": {
      "needs_background": "light"
     },
     "output_type": "display_data"
    },
    {
     "name": "stdout",
     "output_type": "stream",
     "text": [
      "gdp_per_capita\n"
     ]
    },
    {
     "data": {
      "image/png": "[encoded data removed]",
      "text/plain": [
       "<Figure size 432x288 with 1 Axes>"
      ]
     },
     "metadata": {
      "needs_background": "light"
     },
     "output_type": "display_data"
    },
    {
     "name": "stdout",
     "output_type": "stream",
     "text": [
      "social_support\n"
     ]
    },
    {
     "data": {
      "image/png": "[encoded data removed]",
      "text/plain": [
       "<Figure size 432x288 with 1 Axes>"
      ]
     },
     "metadata": {
      "needs_background": "light"
     },
     "output_type": "display_data"
    },
    {
     "name": "stdout",
     "output_type": "stream",
     "text": [
      "health\n"
     ]
    },
    {
     "data": {
      "image/png": "[encoded data removed]",
      "text/plain": [
       "<Figure size 432x288 with 1 Axes>"
      ]
     },
     "metadata": {
      "needs_background": "light"
     },
     "output_type": "display_data"
    },
    {
     "name": "stdout",
     "output_type": "stream",
     "text": [
      "freedom\n"
     ]
    },
    {
     "data": {
      "image/png": "[encoded data removed]",
      "text/plain": [
       "<Figure size 432x288 with 1 Axes>"
      ]
     },
     "metadata": {
      "needs_background": "light"
     },
     "output_type": "display_data"
    },
    {
     "name": "stdout",
     "output_type": "stream",
     "text": [
      "generosity\n"
     ]
    },
    {
     "data": {
      "image/png": "[encoded data removed]",
      "text/plain": [
       "<Figure size 432x288 with 1 Axes>"
      ]
     },
     "metadata": {
      "needs_background": "light"
     },
     "output_type": "display_data"
    },
    {
     "name": "stdout",
     "output_type": "stream",
     "text": [
      "government_trust\n"
     ]
    },
    {
     "data": {
      "image/png": "[encoded data removed]",
      "text/plain": [
       "<Figure size 432x288 with 1 Axes>"
      ]
     },
     "metadata": {
      "needs_background": "light"
     },
     "output_type": "display_data"
    },
    {
     "name": "stdout",
     "output_type": "stream",
     "text": [
      "dystopia_residual\n"
     ]
    },
    {
     "data": {
      "image/png": "[encoded data removed]",
      "text/plain": [
       "<Figure size 432x288 with 1 Axes>"
      ]
     },
     "metadata": {
      "needs_background": "light"
     },
     "output_type": "display_data"
    }
   ],
   "source": [
    "for i in data.drop(['country','continent'], axis = 1).columns:\n",
    "    data[i].hist()\n",
    "    print(i)\n",
    "    plt.show()"
   ]
  },
  {
   "cell_type": "code",
   "execution_count": 10,
   "id": "78afaba3",
   "metadata": {},
   "outputs": [
    {
     "data": {
      "text/plain": [
       "<AxesSubplot:>"
      ]
     },
     "execution_count": 10,
     "metadata": {},
     "output_type": "execute_result"
    },
    {
     "data": {
      "image/png": "[encoded data removed]",
      "text/plain": [
       "<Figure size 432x288 with 1 Axes>"
      ]
     },
     "metadata": {
      "needs_background": "light"
     },
     "output_type": "display_data"
    }
   ],
   "source": [
    "data.boxplot(column = ['gdp_per_capita','social_support'])"
   ]
  },
  {
   "cell_type": "code",
   "execution_count": 24,
   "id": "bc072d7d",
   "metadata": {},
   "outputs": [],
   "source": [
    "import seaborn as sns"
   ]
  },
  {
   "cell_type": "code",
   "execution_count": 22,
   "id": "f0380ea8",
   "metadata": {},
   "outputs": [],
   "source": [
    "correlation_df2 = dummy.corr()"
   ]
  },
  {
   "cell_type": "code",
   "execution_count": 25,
   "id": "2d28c449",
   "metadata": {},
   "outputs": [
    {
     "data": {
      "image/png": "[encoded data removed]",
      "text/plain": [
       "<Figure size 432x288 with 2 Axes>"
      ]
     },
     "metadata": {
      "needs_background": "light"
     },
     "output_type": "display_data"
    }
   ],
   "source": [
    "#getting correlation table; 1 or -1 is perfect correlation, 0 is no correlation\n",
    "\n",
    "hm = sns.heatmap(correlation_df2)"
   ]
  },
  {
   "cell_type": "markdown",
   "id": "ba4c42e7",
   "metadata": {},
   "source": [
    "Looking at the correlation heatmap, it appears that happiness has a strong, positive correlation with GDP per capita (PPP), the level of social support, health, and perceived freedom to make life choices. Although trust in the government is correlated with happiness, it doesn't seem as good of a predictor for the happiness score as the previously listed indicators. Interestingly, generosity is somewhat negatively correlated with happiness, as well as other positive indicators of happiness. Generosity has a moderately negative correlation with GDP per capita (PPP), suggesting that those in developing countries may be more generous in charity than in developed countries. \n",
    "\n",
    "In terms of geographic location, African countries have a moderately strong negative correlation with the happiness score, indicative of the broadly lower levels of development on the continent. European countries, on the other hand, have the highest postive correlation with happiness."
   ]
  },
  {
   "cell_type": "code",
   "execution_count": 28,
   "id": "affe1750",
   "metadata": {},
   "outputs": [],
   "source": [
    "r22_countryindex = r22.set_index('country')"
   ]
  },
  {
   "cell_type": "code",
   "execution_count": 30,
   "id": "6b867eb4",
   "metadata": {},
   "outputs": [
    {
     "data": {
      "text/html": [
       "<div>\n",
       "<style scoped>\n",
       "    .dataframe tbody tr th:only-of-type {\n",
       "        vertical-align: middle;\n",
       "    }\n",
       "\n",
       "    .dataframe tbody tr th {\n",
       "        vertical-align: top;\n",
       "    }\n",
       "\n",
       "    .dataframe thead th {\n",
       "        text-align: right;\n",
       "    }\n",
       "</style>\n",
       "<table border=\"1\" class=\"dataframe\">\n",
       "  <thead>\n",
       "    <tr style=\"text-align: right;\">\n",
       "      <th></th>\n",
       "      <th>happiness_score</th>\n",
       "      <th>gdp_per_capita</th>\n",
       "      <th>social_support</th>\n",
       "      <th>health</th>\n",
       "      <th>freedom</th>\n",
       "      <th>generosity</th>\n",
       "      <th>government_trust</th>\n",
       "      <th>dystopia_residual</th>\n",
       "      <th>continent</th>\n",
       "    </tr>\n",
       "    <tr>\n",
       "      <th>country</th>\n",
       "      <th></th>\n",
       "      <th></th>\n",
       "      <th></th>\n",
       "      <th></th>\n",
       "      <th></th>\n",
       "      <th></th>\n",
       "      <th></th>\n",
       "      <th></th>\n",
       "      <th></th>\n",
       "    </tr>\n",
       "  </thead>\n",
       "  <tbody>\n",
       "    <tr>\n",
       "      <th>Finland</th>\n",
       "      <td>7.821</td>\n",
       "      <td>1.892</td>\n",
       "      <td>1.258</td>\n",
       "      <td>0.775</td>\n",
       "      <td>0.736</td>\n",
       "      <td>0.109</td>\n",
       "      <td>0.534</td>\n",
       "      <td>2.518</td>\n",
       "      <td>Europe</td>\n",
       "    </tr>\n",
       "    <tr>\n",
       "      <th>Denmark</th>\n",
       "      <td>7.636</td>\n",
       "      <td>1.953</td>\n",
       "      <td>1.243</td>\n",
       "      <td>0.777</td>\n",
       "      <td>0.719</td>\n",
       "      <td>0.188</td>\n",
       "      <td>0.532</td>\n",
       "      <td>2.226</td>\n",
       "      <td>Europe</td>\n",
       "    </tr>\n",
       "    <tr>\n",
       "      <th>Iceland</th>\n",
       "      <td>7.557</td>\n",
       "      <td>1.936</td>\n",
       "      <td>1.320</td>\n",
       "      <td>0.803</td>\n",
       "      <td>0.718</td>\n",
       "      <td>0.270</td>\n",
       "      <td>0.191</td>\n",
       "      <td>2.320</td>\n",
       "      <td>Europe</td>\n",
       "    </tr>\n",
       "    <tr>\n",
       "      <th>Switzerland</th>\n",
       "      <td>7.512</td>\n",
       "      <td>2.026</td>\n",
       "      <td>1.226</td>\n",
       "      <td>0.822</td>\n",
       "      <td>0.677</td>\n",
       "      <td>0.147</td>\n",
       "      <td>0.461</td>\n",
       "      <td>2.153</td>\n",
       "      <td>Europe</td>\n",
       "    </tr>\n",
       "    <tr>\n",
       "      <th>Netherlands</th>\n",
       "      <td>7.415</td>\n",
       "      <td>1.945</td>\n",
       "      <td>1.206</td>\n",
       "      <td>0.787</td>\n",
       "      <td>0.651</td>\n",
       "      <td>0.271</td>\n",
       "      <td>0.419</td>\n",
       "      <td>2.137</td>\n",
       "      <td>Europe</td>\n",
       "    </tr>\n",
       "    <tr>\n",
       "      <th>...</th>\n",
       "      <td>...</td>\n",
       "      <td>...</td>\n",
       "      <td>...</td>\n",
       "      <td>...</td>\n",
       "      <td>...</td>\n",
       "      <td>...</td>\n",
       "      <td>...</td>\n",
       "      <td>...</td>\n",
       "      <td>...</td>\n",
       "    </tr>\n",
       "    <tr>\n",
       "      <th>Botswana</th>\n",
       "      <td>3.471</td>\n",
       "      <td>1.503</td>\n",
       "      <td>0.815</td>\n",
       "      <td>0.280</td>\n",
       "      <td>0.571</td>\n",
       "      <td>0.012</td>\n",
       "      <td>0.102</td>\n",
       "      <td>0.187</td>\n",
       "      <td>Africa</td>\n",
       "    </tr>\n",
       "    <tr>\n",
       "      <th>Rwanda</th>\n",
       "      <td>3.268</td>\n",
       "      <td>0.785</td>\n",
       "      <td>0.133</td>\n",
       "      <td>0.462</td>\n",
       "      <td>0.621</td>\n",
       "      <td>0.187</td>\n",
       "      <td>0.544</td>\n",
       "      <td>0.536</td>\n",
       "      <td>Africa</td>\n",
       "    </tr>\n",
       "    <tr>\n",
       "      <th>Zimbabwe</th>\n",
       "      <td>2.995</td>\n",
       "      <td>0.947</td>\n",
       "      <td>0.690</td>\n",
       "      <td>0.270</td>\n",
       "      <td>0.329</td>\n",
       "      <td>0.106</td>\n",
       "      <td>0.105</td>\n",
       "      <td>0.548</td>\n",
       "      <td>Africa</td>\n",
       "    </tr>\n",
       "    <tr>\n",
       "      <th>Lebanon</th>\n",
       "      <td>2.955</td>\n",
       "      <td>1.392</td>\n",
       "      <td>0.498</td>\n",
       "      <td>0.631</td>\n",
       "      <td>0.103</td>\n",
       "      <td>0.082</td>\n",
       "      <td>0.034</td>\n",
       "      <td>0.216</td>\n",
       "      <td>Asia</td>\n",
       "    </tr>\n",
       "    <tr>\n",
       "      <th>Afghanistan</th>\n",
       "      <td>2.404</td>\n",
       "      <td>0.758</td>\n",
       "      <td>0.000</td>\n",
       "      <td>0.289</td>\n",
       "      <td>0.000</td>\n",
       "      <td>0.089</td>\n",
       "      <td>0.005</td>\n",
       "      <td>1.263</td>\n",
       "      <td>Asia</td>\n",
       "    </tr>\n",
       "  </tbody>\n",
       "</table>\n",
       "<p>146 rows × 9 columns</p>\n",
       "</div>"
      ],
      "text/plain": [
       "             happiness_score  gdp_per_capita  social_support  health  freedom  \\\n",
       "country                                                                         \n",
       "Finland                7.821           1.892           1.258   0.775    0.736   \n",
       "Denmark                7.636           1.953           1.243   0.777    0.719   \n",
       "Iceland                7.557           1.936           1.320   0.803    0.718   \n",
       "Switzerland            7.512           2.026           1.226   0.822    0.677   \n",
       "Netherlands            7.415           1.945           1.206   0.787    0.651   \n",
       "...                      ...             ...             ...     ...      ...   \n",
       "Botswana               3.471           1.503           0.815   0.280    0.571   \n",
       "Rwanda                 3.268           0.785           0.133   0.462    0.621   \n",
       "Zimbabwe               2.995           0.947           0.690   0.270    0.329   \n",
       "Lebanon                2.955           1.392           0.498   0.631    0.103   \n",
       "Afghanistan            2.404           0.758           0.000   0.289    0.000   \n",
       "\n",
       "             generosity  government_trust  dystopia_residual continent  \n",
       "country                                                                 \n",
       "Finland           0.109             0.534              2.518    Europe  \n",
       "Denmark           0.188             0.532              2.226    Europe  \n",
       "Iceland           0.270             0.191              2.320    Europe  \n",
       "Switzerland       0.147             0.461              2.153    Europe  \n",
       "Netherlands       0.271             0.419              2.137    Europe  \n",
       "...                 ...               ...                ...       ...  \n",
       "Botswana          0.012             0.102              0.187    Africa  \n",
       "Rwanda            0.187             0.544              0.536    Africa  \n",
       "Zimbabwe          0.106             0.105              0.548    Africa  \n",
       "Lebanon           0.082             0.034              0.216      Asia  \n",
       "Afghanistan       0.089             0.005              1.263      Asia  \n",
       "\n",
       "[146 rows x 9 columns]"
      ]
     },
     "execution_count": 30,
     "metadata": {},
     "output_type": "execute_result"
    }
   ],
   "source": [
    "r22_countryindex"
   ]
  },
  {
   "cell_type": "code",
   "execution_count": 42,
   "id": "65507be2",
   "metadata": {},
   "outputs": [
    {
     "data": {
      "image/png": "[encoded data removed]",
      "text/plain": [
       "<Figure size 432x288 with 1 Axes>"
      ]
     },
     "metadata": {
      "needs_background": "light"
     },
     "output_type": "display_data"
    }
   ],
   "source": [
    "ax1 = r22[r22.continent =='Africa'].plot.scatter(x = 'country', y='happiness_score',c='DarkBlue', rot = 90, \n",
    "                                                 title = 'Happiness of African Countries',\n",
    "                                                 ylabel = 'Happiness Score',\n",
    "                                                xlabel  = 'Country')"
   ]
  },
  {
   "cell_type": "code",
   "execution_count": 61,
   "id": "e5d55749",
   "metadata": {},
   "outputs": [
    {
     "data": {
      "image/png": "[encoded data removed]",
      "text/plain": [
       "<Figure size 432x288 with 1 Axes>"
      ]
     },
     "metadata": {
      "needs_background": "light"
     },
     "output_type": "display_data"
    }
   ],
   "source": [
    "ax1 = r22.plot.scatter(x = 'generosity', y='happiness_score',c='DarkBlue', rot = 90, \n",
    "                                                 title = 'Generosity vs happiness')"
   ]
  },
  {
   "cell_type": "code",
   "execution_count": 71,
   "id": "fa0cb128",
   "metadata": {},
   "outputs": [
    {
     "data": {
      "image/png": "[encoded data removed]",
      "text/plain": [
       "<Figure size 432x288 with 1 Axes>"
      ]
     },
     "metadata": {
      "needs_background": "light"
     },
     "output_type": "display_data"
    }
   ],
   "source": [
    "ax1 = r22.plot.scatter(x = 'government_trust', y='happiness_score',c='DarkBlue', rot = 90, \n",
    "                                                 title = 'Government trust vs happiness')"
   ]
  },
  {
   "cell_type": "code",
   "execution_count": 78,
   "id": "22553b47",
   "metadata": {},
   "outputs": [
    {
     "ename": "ValueError",
     "evalue": "too many values to unpack (expected 2)",
     "output_type": "error",
     "traceback": [
      "\u001b[1;31m---------------------------------------------------------------------------\u001b[0m",
      "\u001b[1;31mValueError\u001b[0m                                Traceback (most recent call last)",
      "\u001b[1;32m<ipython-input-78-a9feb8d9db0c>\u001b[0m in \u001b[0;36m<module>\u001b[1;34m\u001b[0m\n\u001b[1;32m----> 1\u001b[1;33m \u001b[0mkey\u001b[0m\u001b[1;33m,\u001b[0m \u001b[0mgroup\u001b[0m \u001b[1;33m=\u001b[0m \u001b[0mr22\u001b[0m\u001b[1;33m.\u001b[0m\u001b[0mgroupby\u001b[0m\u001b[1;33m(\u001b[0m\u001b[1;34m'continent'\u001b[0m\u001b[1;33m)\u001b[0m\u001b[1;33m\u001b[0m\u001b[1;33m\u001b[0m\u001b[0m\n\u001b[0m",
      "\u001b[1;31mValueError\u001b[0m: too many values to unpack (expected 2)"
     ]
    }
   ],
   "source": []
  },
  {
   "cell_type": "code",
   "execution_count": 94,
   "id": "746acada",
   "metadata": {},
   "outputs": [
    {
     "data": {
      "image/png": "[encoded data removed]",
      "text/plain": [
       "<Figure size 576x432 with 1 Axes>"
      ]
     },
     "metadata": {
      "needs_background": "light"
     },
     "output_type": "display_data"
    }
   ],
   "source": [
    "fig, ax = plt.subplots(figsize=(8, 6))\n",
    "colors = {'Europe':'tab:blue', 'South America':'tab:orange', 'North America':'tab:green', 'Africa':'tab:red', 'Australia':'purple', 'Asia':'black'}\n",
    "\n",
    "grouped = r22.groupby('continent')\n",
    "\n",
    "for key, group in grouped:\n",
    "    group.plot(ax=ax,kind='scatter', x='government_trust', y='happiness_score', label=key, color=colors[key], title = 'Government Trust vs Happiness')"
   ]
  },
  {
   "cell_type": "markdown",
   "id": "794d8bee",
   "metadata": {},
   "source": [
    "Looking at the scatterplot for government trust against happiness scores, it appears that the there are a few outliers that have scewed the correlation coefficient. Rwanda has the second highest score for trust in government, but is ranked 4th last in happiness. Singapore is ranked first in government trust but only 22nd in happiness."
   ]
  },
  {
   "cell_type": "code",
   "execution_count": 98,
   "id": "f0f8a73d",
   "metadata": {},
   "outputs": [
    {
     "name": "stderr",
     "output_type": "stream",
     "text": [
      "<ipython-input-98-35ef8aeebde8>:1: UserWarning: Boolean Series key will be reindexed to match DataFrame index.\n",
      "  r22[r22.continent ==  'Asia'][r22.government_trust == r22.government_trust.max()]\n"
     ]
    },
    {
     "data": {
      "text/html": [
       "<div>\n",
       "<style scoped>\n",
       "    .dataframe tbody tr th:only-of-type {\n",
       "        vertical-align: middle;\n",
       "    }\n",
       "\n",
       "    .dataframe tbody tr th {\n",
       "        vertical-align: top;\n",
       "    }\n",
       "\n",
       "    .dataframe thead th {\n",
       "        text-align: right;\n",
       "    }\n",
       "</style>\n",
       "<table border=\"1\" class=\"dataframe\">\n",
       "  <thead>\n",
       "    <tr style=\"text-align: right;\">\n",
       "      <th></th>\n",
       "      <th>country</th>\n",
       "      <th>happiness_score</th>\n",
       "      <th>gdp_per_capita</th>\n",
       "      <th>social_support</th>\n",
       "      <th>health</th>\n",
       "      <th>freedom</th>\n",
       "      <th>generosity</th>\n",
       "      <th>government_trust</th>\n",
       "      <th>dystopia_residual</th>\n",
       "      <th>continent</th>\n",
       "    </tr>\n",
       "  </thead>\n",
       "  <tbody>\n",
       "    <tr>\n",
       "      <th>26</th>\n",
       "      <td>Singapore</td>\n",
       "      <td>6.48</td>\n",
       "      <td>2.149</td>\n",
       "      <td>1.127</td>\n",
       "      <td>0.851</td>\n",
       "      <td>0.672</td>\n",
       "      <td>0.163</td>\n",
       "      <td>0.587</td>\n",
       "      <td>0.932</td>\n",
       "      <td>Asia</td>\n",
       "    </tr>\n",
       "  </tbody>\n",
       "</table>\n",
       "</div>"
      ],
      "text/plain": [
       "      country  happiness_score  gdp_per_capita  social_support  health  \\\n",
       "26  Singapore             6.48           2.149           1.127   0.851   \n",
       "\n",
       "    freedom  generosity  government_trust  dystopia_residual continent  \n",
       "26    0.672       0.163             0.587              0.932      Asia  "
      ]
     },
     "execution_count": 98,
     "metadata": {},
     "output_type": "execute_result"
    }
   ],
   "source": [
    "r22[r22.continent == 'Asia'][r22.government_trust == r22.government_trust.max()]"
   ]
  },
  {
   "cell_type": "code",
   "execution_count": 107,
   "id": "f73abb08",
   "metadata": {},
   "outputs": [
    {
     "data": {
      "text/html": [
       "<div>\n",
       "<style scoped>\n",
       "    .dataframe tbody tr th:only-of-type {\n",
       "        vertical-align: middle;\n",
       "    }\n",
       "\n",
       "    .dataframe tbody tr th {\n",
       "        vertical-align: top;\n",
       "    }\n",
       "\n",
       "    .dataframe thead th {\n",
       "        text-align: right;\n",
       "    }\n",
       "</style>\n",
       "<table border=\"1\" class=\"dataframe\">\n",
       "  <thead>\n",
       "    <tr style=\"text-align: right;\">\n",
       "      <th></th>\n",
       "      <th>country</th>\n",
       "      <th>happiness_score</th>\n",
       "      <th>gdp_per_capita</th>\n",
       "      <th>social_support</th>\n",
       "      <th>health</th>\n",
       "      <th>freedom</th>\n",
       "      <th>generosity</th>\n",
       "      <th>government_trust</th>\n",
       "      <th>dystopia_residual</th>\n",
       "      <th>continent</th>\n",
       "    </tr>\n",
       "  </thead>\n",
       "  <tbody>\n",
       "    <tr>\n",
       "      <th>26</th>\n",
       "      <td>Singapore</td>\n",
       "      <td>6.480</td>\n",
       "      <td>2.149</td>\n",
       "      <td>1.127</td>\n",
       "      <td>0.851</td>\n",
       "      <td>0.672</td>\n",
       "      <td>0.163</td>\n",
       "      <td>0.587</td>\n",
       "      <td>0.932</td>\n",
       "      <td>Asia</td>\n",
       "    </tr>\n",
       "    <tr>\n",
       "      <th>142</th>\n",
       "      <td>Rwanda</td>\n",
       "      <td>3.268</td>\n",
       "      <td>0.785</td>\n",
       "      <td>0.133</td>\n",
       "      <td>0.462</td>\n",
       "      <td>0.621</td>\n",
       "      <td>0.187</td>\n",
       "      <td>0.544</td>\n",
       "      <td>0.536</td>\n",
       "      <td>Africa</td>\n",
       "    </tr>\n",
       "    <tr>\n",
       "      <th>0</th>\n",
       "      <td>Finland</td>\n",
       "      <td>7.821</td>\n",
       "      <td>1.892</td>\n",
       "      <td>1.258</td>\n",
       "      <td>0.775</td>\n",
       "      <td>0.736</td>\n",
       "      <td>0.109</td>\n",
       "      <td>0.534</td>\n",
       "      <td>2.518</td>\n",
       "      <td>Europe</td>\n",
       "    </tr>\n",
       "    <tr>\n",
       "      <th>1</th>\n",
       "      <td>Denmark</td>\n",
       "      <td>7.636</td>\n",
       "      <td>1.953</td>\n",
       "      <td>1.243</td>\n",
       "      <td>0.777</td>\n",
       "      <td>0.719</td>\n",
       "      <td>0.188</td>\n",
       "      <td>0.532</td>\n",
       "      <td>2.226</td>\n",
       "      <td>Europe</td>\n",
       "    </tr>\n",
       "    <tr>\n",
       "      <th>6</th>\n",
       "      <td>Sweden</td>\n",
       "      <td>7.384</td>\n",
       "      <td>1.920</td>\n",
       "      <td>1.204</td>\n",
       "      <td>0.803</td>\n",
       "      <td>0.724</td>\n",
       "      <td>0.218</td>\n",
       "      <td>0.512</td>\n",
       "      <td>2.003</td>\n",
       "      <td>Europe</td>\n",
       "    </tr>\n",
       "    <tr>\n",
       "      <th>...</th>\n",
       "      <td>...</td>\n",
       "      <td>...</td>\n",
       "      <td>...</td>\n",
       "      <td>...</td>\n",
       "      <td>...</td>\n",
       "      <td>...</td>\n",
       "      <td>...</td>\n",
       "      <td>...</td>\n",
       "      <td>...</td>\n",
       "      <td>...</td>\n",
       "    </tr>\n",
       "    <tr>\n",
       "      <th>97</th>\n",
       "      <td>Ukraine</td>\n",
       "      <td>5.084</td>\n",
       "      <td>1.411</td>\n",
       "      <td>1.081</td>\n",
       "      <td>0.583</td>\n",
       "      <td>0.473</td>\n",
       "      <td>0.188</td>\n",
       "      <td>0.017</td>\n",
       "      <td>1.331</td>\n",
       "      <td>Europe</td>\n",
       "    </tr>\n",
       "    <tr>\n",
       "      <th>66</th>\n",
       "      <td>Bosnia and Herzegovina</td>\n",
       "      <td>5.768</td>\n",
       "      <td>1.468</td>\n",
       "      <td>1.068</td>\n",
       "      <td>0.665</td>\n",
       "      <td>0.448</td>\n",
       "      <td>0.244</td>\n",
       "      <td>0.006</td>\n",
       "      <td>1.869</td>\n",
       "      <td>Europe</td>\n",
       "    </tr>\n",
       "    <tr>\n",
       "      <th>27</th>\n",
       "      <td>Romania</td>\n",
       "      <td>6.477</td>\n",
       "      <td>1.719</td>\n",
       "      <td>1.006</td>\n",
       "      <td>0.655</td>\n",
       "      <td>0.605</td>\n",
       "      <td>0.039</td>\n",
       "      <td>0.006</td>\n",
       "      <td>2.446</td>\n",
       "      <td>Europe</td>\n",
       "    </tr>\n",
       "    <tr>\n",
       "      <th>145</th>\n",
       "      <td>Afghanistan</td>\n",
       "      <td>2.404</td>\n",
       "      <td>0.758</td>\n",
       "      <td>0.000</td>\n",
       "      <td>0.289</td>\n",
       "      <td>0.000</td>\n",
       "      <td>0.089</td>\n",
       "      <td>0.005</td>\n",
       "      <td>1.263</td>\n",
       "      <td>Asia</td>\n",
       "    </tr>\n",
       "    <tr>\n",
       "      <th>46</th>\n",
       "      <td>Croatia</td>\n",
       "      <td>6.125</td>\n",
       "      <td>1.705</td>\n",
       "      <td>1.183</td>\n",
       "      <td>0.709</td>\n",
       "      <td>0.535</td>\n",
       "      <td>0.109</td>\n",
       "      <td>0.000</td>\n",
       "      <td>1.884</td>\n",
       "      <td>Europe</td>\n",
       "    </tr>\n",
       "  </tbody>\n",
       "</table>\n",
       "<p>146 rows × 10 columns</p>\n",
       "</div>"
      ],
      "text/plain": [
       "                    country  happiness_score  gdp_per_capita  social_support  \\\n",
       "26                Singapore            6.480           2.149           1.127   \n",
       "142                  Rwanda            3.268           0.785           0.133   \n",
       "0                   Finland            7.821           1.892           1.258   \n",
       "1                   Denmark            7.636           1.953           1.243   \n",
       "6                    Sweden            7.384           1.920           1.204   \n",
       "..                      ...              ...             ...             ...   \n",
       "97                  Ukraine            5.084           1.411           1.081   \n",
       "66   Bosnia and Herzegovina            5.768           1.468           1.068   \n",
       "27                  Romania            6.477           1.719           1.006   \n",
       "145             Afghanistan            2.404           0.758           0.000   \n",
       "46                  Croatia            6.125           1.705           1.183   \n",
       "\n",
       "     health  freedom  generosity  government_trust  dystopia_residual  \\\n",
       "26    0.851    0.672       0.163             0.587              0.932   \n",
       "142   0.462    0.621       0.187             0.544              0.536   \n",
       "0     0.775    0.736       0.109             0.534              2.518   \n",
       "1     0.777    0.719       0.188             0.532              2.226   \n",
       "6     0.803    0.724       0.218             0.512              2.003   \n",
       "..      ...      ...         ...               ...                ...   \n",
       "97    0.583    0.473       0.188             0.017              1.331   \n",
       "66    0.665    0.448       0.244             0.006              1.869   \n",
       "27    0.655    0.605       0.039             0.006              2.446   \n",
       "145   0.289    0.000       0.089             0.005              1.263   \n",
       "46    0.709    0.535       0.109             0.000              1.884   \n",
       "\n",
       "    continent  \n",
       "26       Asia  \n",
       "142    Africa  \n",
       "0      Europe  \n",
       "1      Europe  \n",
       "6      Europe  \n",
       "..        ...  \n",
       "97     Europe  \n",
       "66     Europe  \n",
       "27     Europe  \n",
       "145      Asia  \n",
       "46     Europe  \n",
       "\n",
       "[146 rows x 10 columns]"
      ]
     },
     "execution_count": 107,
     "metadata": {},
     "output_type": "execute_result"
    }
   ],
   "source": [
    "r22.sort_values(by = ['government_trust'],ascending = False)\n",
    "#sorted countries by government trust"
   ]
  },
  {
   "cell_type": "code",
   "execution_count": 123,
   "id": "a30622da",
   "metadata": {},
   "outputs": [
    {
     "data": {
      "text/html": [
       "<div>\n",
       "<style scoped>\n",
       "    .dataframe tbody tr th:only-of-type {\n",
       "        vertical-align: middle;\n",
       "    }\n",
       "\n",
       "    .dataframe tbody tr th {\n",
       "        vertical-align: top;\n",
       "    }\n",
       "\n",
       "    .dataframe thead th {\n",
       "        text-align: right;\n",
       "    }\n",
       "</style>\n",
       "<table border=\"1\" class=\"dataframe\">\n",
       "  <thead>\n",
       "    <tr style=\"text-align: right;\">\n",
       "      <th></th>\n",
       "      <th>happiness_score</th>\n",
       "    </tr>\n",
       "    <tr>\n",
       "      <th>continent</th>\n",
       "      <th></th>\n",
       "    </tr>\n",
       "  </thead>\n",
       "  <tbody>\n",
       "    <tr>\n",
       "      <th>Australia</th>\n",
       "      <td>7.273600</td>\n",
       "    </tr>\n",
       "    <tr>\n",
       "      <th>North America</th>\n",
       "      <td>6.959033</td>\n",
       "    </tr>\n",
       "    <tr>\n",
       "      <th>Europe</th>\n",
       "      <td>6.244997</td>\n",
       "    </tr>\n",
       "    <tr>\n",
       "      <th>South America</th>\n",
       "      <td>5.868215</td>\n",
       "    </tr>\n",
       "    <tr>\n",
       "      <th>Asia</th>\n",
       "      <td>5.279603</td>\n",
       "    </tr>\n",
       "    <tr>\n",
       "      <th>Africa</th>\n",
       "      <td>4.385120</td>\n",
       "    </tr>\n",
       "  </tbody>\n",
       "</table>\n",
       "</div>"
      ],
      "text/plain": [
       "               happiness_score\n",
       "continent                     \n",
       "Australia             7.273600\n",
       "North America         6.959033\n",
       "Europe                6.244997\n",
       "South America         5.868215\n",
       "Asia                  5.279603\n",
       "Africa                4.385120"
      ]
     },
     "execution_count": 123,
     "metadata": {},
     "output_type": "execute_result"
    }
   ],
   "source": [
    "#mean happiness scores across continents\n",
    "pd.pivot_table(data, index = 'continent', values = 'happiness_score').sort_values(by = 'happiness_score', ascending = False)"
   ]
  },
  {
   "cell_type": "code",
   "execution_count": 130,
   "id": "63c76450",
   "metadata": {},
   "outputs": [
    {
     "data": {
      "text/html": [
       "<div>\n",
       "<style scoped>\n",
       "    .dataframe tbody tr th:only-of-type {\n",
       "        vertical-align: middle;\n",
       "    }\n",
       "\n",
       "    .dataframe tbody tr th {\n",
       "        vertical-align: top;\n",
       "    }\n",
       "\n",
       "    .dataframe thead th {\n",
       "        text-align: right;\n",
       "    }\n",
       "</style>\n",
       "<table border=\"1\" class=\"dataframe\">\n",
       "  <thead>\n",
       "    <tr style=\"text-align: right;\">\n",
       "      <th></th>\n",
       "      <th>country</th>\n",
       "    </tr>\n",
       "    <tr>\n",
       "      <th>continent</th>\n",
       "      <th></th>\n",
       "    </tr>\n",
       "  </thead>\n",
       "  <tbody>\n",
       "    <tr>\n",
       "      <th>Australia</th>\n",
       "      <td>2</td>\n",
       "    </tr>\n",
       "    <tr>\n",
       "      <th>North America</th>\n",
       "      <td>3</td>\n",
       "    </tr>\n",
       "    <tr>\n",
       "      <th>South America</th>\n",
       "      <td>19</td>\n",
       "    </tr>\n",
       "    <tr>\n",
       "      <th>Africa</th>\n",
       "      <td>39</td>\n",
       "    </tr>\n",
       "    <tr>\n",
       "      <th>Europe</th>\n",
       "      <td>40</td>\n",
       "    </tr>\n",
       "    <tr>\n",
       "      <th>Asia</th>\n",
       "      <td>43</td>\n",
       "    </tr>\n",
       "  </tbody>\n",
       "</table>\n",
       "</div>"
      ],
      "text/plain": [
       "               country\n",
       "continent             \n",
       "Australia            2\n",
       "North America        3\n",
       "South America       19\n",
       "Africa              39\n",
       "Europe              40\n",
       "Asia                43"
      ]
     },
     "execution_count": 130,
     "metadata": {},
     "output_type": "execute_result"
    }
   ],
   "source": [
    "#country counts across continents\n",
    "pd.pivot_table(r22, index = 'continent', values = 'country', aggfunc = 'count').sort_values(by = 'country')"
   ]
  },
  {
   "cell_type": "markdown",
   "id": "a48a271d",
   "metadata": {},
   "source": [
    "Overall, we can see that Australia and North America have the highest mean happiness score ahead of Europe, however this can be attributed to there only being a few countries in these two continents leading to a smaller sample size."
   ]
  },
  {
   "cell_type": "code",
   "execution_count": 148,
   "id": "c00442ba",
   "metadata": {},
   "outputs": [],
   "source": [
    "#saving training and testing data\n",
    "frames = [r15, r16, r17, r18, r19, r20]\n",
    "\n",
    "training_data = pd.concat(frames, ignore_index= True)"
   ]
  },
  {
   "cell_type": "code",
   "execution_count": 149,
   "id": "64571ace",
   "metadata": {},
   "outputs": [],
   "source": [
    "training_data = pd.get_dummies(training_data.drop(['country'], axis=1))"
   ]
  },
  {
   "cell_type": "code",
   "execution_count": 144,
   "id": "5099ef42",
   "metadata": {},
   "outputs": [],
   "source": [
    "training_data.to_csv('training_data.csv', index = False)"
   ]
  },
  {
   "cell_type": "code",
   "execution_count": 146,
   "id": "34d066e6",
   "metadata": {},
   "outputs": [],
   "source": [
    "testing_data = pd.get_dummies(r22.drop(['country'], axis=1))\n",
    "testing_data.to_csv('testing_data.csv', index = False)"
   ]
  }
 ],
 "metadata": {
  "kernelspec": {
   "display_name": "Python 3",
   "language": "python",
   "name": "python3"
  },
  "language_info": {
   "codemirror_mode": {
    "name": "ipython",
    "version": 3
   },
   "file_extension": ".py",
   "mimetype": "text/x-python",
   "name": "python",
   "nbconvert_exporter": "python",
   "pygments_lexer": "ipython3",
   "version": "3.8.8"
  }
 },
 "nbformat": 4,
 "nbformat_minor": 5
}
